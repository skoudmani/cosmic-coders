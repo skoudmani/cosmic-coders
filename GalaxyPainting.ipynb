{
 "cells": [
  {
   "cell_type": "markdown",
   "id": "82f4b53c",
   "metadata": {},
   "source": [
    "# Section 1: Hello Matplotlib!  \n",
    "Welcome to the world of data and visualisation! 📊✨\n",
    "\n",
    "In this section, we’re going to start learning how to create simple plots using **Matplotlib**, one of the most popular Python libraries for drawing graphs and charts.\n",
    "\n",
    "Visualisation helps us **see** patterns in data — and it's super useful in science, especially in astronomy where we deal with stars, galaxies, and huge amounts of numbers!\n",
    "\n",
    "Let’s begin with a basic **line plot** to see how it works. Don’t worry if you’ve never done this before — we’ll take it step by step.👇\n"
   ]
  },
  {
   "cell_type": "code",
   "execution_count": null,
   "id": "39b691b1",
   "metadata": {},
   "outputs": [],
   "source": [
    "%matplotlib inline"
   ]
  },
  {
   "cell_type": "code",
   "execution_count": null,
   "id": "731b008a",
   "metadata": {},
   "outputs": [],
   "source": [
    "import matplotlib.pyplot as plt\n",
    "\n",
    "# A simple line plot\n",
    "x = [0, 1, 2, 3, 4, 5, 6]\n",
    "y = [0, 1, 4, 9, 16, 25, 36]\n",
    "\n",
    "plt.plot(x, y)\n",
    "plt.title(\"Simple Line Plot\")\n",
    "plt.xlabel(\"X values\")\n",
    "plt.ylabel(\"Y = X squared\")\n",
    "plt.grid(True)\n",
    "plt.show()"
   ]
  },
  {
   "cell_type": "markdown",
   "id": "701582b8",
   "metadata": {},
   "source": [
    "# Section 2: Plotting Points (Scatter Plots)  \n",
    "Sometimes we just want to plot individual **points** rather than a continuous line. This is where a **scatter plot** comes in!\n",
    "\n",
    "Scatter plots are great for showing how two sets of values relate to each other — like positions of stars, or brightness vs. distance.\n",
    "\n",
    "Let’s try plotting some simple points on a graph using `plt.scatter()`. ✨"
   ]
  },
  {
   "cell_type": "code",
   "execution_count": null,
   "id": "6ccf50a7",
   "metadata": {},
   "outputs": [],
   "source": [
    "# Section 2: Plotting Points (Scatter Plots)\n",
    "# ------------------------------------------\n",
    "# Sometimes we just want to plot points.\n",
    "\n",
    "x = [1, 2, 3, 4, 5]\n",
    "y = [5, 3, 4, 7, 6]\n",
    "\n",
    "plt.scatter(x, y)\n",
    "plt.title(\"Scatter Plot Example\")\n",
    "plt.xlabel(\"X\")\n",
    "plt.ylabel(\"Y\")\n",
    "plt.show()"
   ]
  },
  {
   "cell_type": "markdown",
   "id": "fe65e0ea",
   "metadata": {},
   "source": [
    "# Section 3: Adding Color and Style  \n",
    "Let’s make our plots look **cooler**! 🎨🌟\n",
    "\n",
    "With Matplotlib, we can easily change the **colour**, **size**, and **style** of our points to make the graphs more fun and easier to understand.\n",
    "\n",
    "In the example below, we use different colours for each point and make them bigger using the `s` parameter (which stands for \"size\").\n",
    "\n",
    "Pick your own colours and find your favourite combination:\n",
    "👉 Check out this list of named colours you can use: [Matplotlib Colour Gallery](https://matplotlib.org/stable/gallery/color/named_colors.html)\n"
   ]
  },
  {
   "cell_type": "code",
   "execution_count": null,
   "id": "8dc7fef2",
   "metadata": {},
   "outputs": [],
   "source": [
    "# Section 3: Adding Color and Style\n",
    "# ---------------------------------\n",
    "# Let's make the plots look cooler!\n",
    "\n",
    "colors = ['red', 'green', 'blue', 'purple', 'orange']\n",
    "\n",
    "plt.scatter(x, y, color=colors, s=100)  # 's' is size of dots\n",
    "plt.title(\"Coloured Scatter Plot\")\n",
    "plt.xlabel(\"X\")\n",
    "plt.ylabel(\"Y\")\n",
    "plt.grid(True)\n",
    "plt.show()"
   ]
  },
  {
   "cell_type": "markdown",
   "id": "ca4c3b27",
   "metadata": {},
   "source": [
    "# Section 4: Plotting Multiple Lines  \n",
    "What if we want to **compare** different functions or patterns on the same graph?\n",
    "\n",
    "We can do that by plotting **multiple lines**! 📈📉 This helps us see how different equations behave as the values of `x` change.\n",
    "\n",
    "In the example below, we’ve plotted:\n",
    "- `y = x` (a straight line)\n",
    "- `y = x²` (a curve that grows quickly)\n",
    "- `y = √x` (a curve that grows slowly)\n",
    "\n",
    "🧠 **Challenge for you:**  \n",
    "Can you add another line for **`y = x³`**?  \n",
    "Hint: You can use `x**3` and add it to the plot with another `plt.plot(...)` line.  \n",
    "Then give it a label like `\"y = x^3\"` so it shows up in the legend!\n",
    "\n",
    "You’ve got this! 🚀\n"
   ]
  },
  {
   "cell_type": "code",
   "execution_count": null,
   "id": "a9307c70",
   "metadata": {},
   "outputs": [],
   "source": [
    "# Section 4: Plotting Multiple Lines\n",
    "# ----------------------------------\n",
    "# What if we want to compare things?\n",
    "\n",
    "import numpy as np\n",
    "\n",
    "x = np.linspace(0, 5, 100)\n",
    "y1 = x\n",
    "y2 = x**2\n",
    "y3 = np.sqrt(x)\n",
    "\n",
    "plt.figure(figsize=(6, 6))\n",
    "plt.plot(x, y1, label=\"y = x\")\n",
    "plt.plot(x, y2, label=\"y = x^2\")\n",
    "plt.plot(x, y3, label=\"y = √x\")\n",
    "plt.title(\"Multiple Line Plot\")\n",
    "plt.xlabel(\"X\")\n",
    "plt.ylabel(\"Y\")\n",
    "plt.legend()\n",
    "plt.grid(True)\n",
    "plt.xlim(0,5)\n",
    "plt.show()\n"
   ]
  },
  {
   "cell_type": "markdown",
   "id": "8af7b5c4",
   "metadata": {},
   "source": [
    "# Section 5: Let's Visualise the Universe! 🌌  \n",
    "Now it’s time to take what we’ve learned and apply it to something **amazing** — a real supercomputer simulation of a **galaxy**!\n",
    "\n",
    "We’re going to load data that represents gas particles in a galaxy. These particles each have a position in 3D space (`x`, `y`, and `z` coordinates), just like gas floating in the universe.\n",
    "\n",
    "We’ll start by loading the data using **Pandas**, a library that helps us work with tables and data.\n",
    "\n",
    "The first step is to read the CSV file (`gas.csv`), which contains the positions of these particles. Then we’ll take a peek at the first few rows to see what it looks like. 👀\n"
   ]
  },
  {
   "cell_type": "code",
   "execution_count": null,
   "id": "33a430a6",
   "metadata": {},
   "outputs": [],
   "source": [
    "# Section 5: Let's Visualize the Universe!\n",
    "# ----------------------------------------\n",
    "# We'll now visualize a supercomputer simulation of a galaxy.\n",
    "\n",
    "import pandas as pd\n",
    "\n",
    "# Load the data\n",
    "gas_data = pd.read_csv('./data/galaxies/gas.csv')  # This file should contain x,y,z positions\n",
    "\n",
    "# Let's look at the first few rows\n",
    "gas_data.head()"
   ]
  },
  {
   "cell_type": "markdown",
   "id": "479a2697",
   "metadata": {},
   "source": [
    "# Section 6: Making a 2D Galaxy Map 🪐  \n",
    "Now that we’ve loaded our galaxy data, let’s **visualise** it by plotting the **x** and **y** positions of the gas particles.\n",
    "\n",
    "This will create a very **zoomed-out** view of the galaxy — so zoomed out, in fact, that it might just look like a faint **disc** of dots. But don’t worry — there’s a lot more detail hidden inside! 🌌\n",
    "\n",
    "Each tiny dot represents a cloud of gas in space. By adjusting the **x** and **y** limits of the plot (`plt.xlim()` and `plt.ylim()`), we can **zoom in** to explore interesting regions like the galaxy’s spiral arms or dense core.\n",
    "\n",
    "🧠 **Try it yourself:**  \n",
    "Use `plt.xlim(...)` and `plt.ylim(...)` to zoom in and uncover more detail. For example:\n",
    "```python\n",
    "plt.xlim(130, 170)\n",
    "plt.ylim(130, 170)\n",
    "```\n",
    "\n",
    "🔍 **Can you guess the coordinates of the galaxy’s centre?**\n",
    "Take a close look at where the gas is most densely packed — that’s probably the core of the galaxy.  \n",
    "What `x` and `y` values do you think mark the middle?\n",
    "\n",
    "Type your guess below the plot and then zoom in to check! 🎯"
   ]
  },
  {
   "cell_type": "code",
   "execution_count": null,
   "id": "7b0737bd",
   "metadata": {},
   "outputs": [],
   "source": [
    "# Section 6: Making a 2D Galaxy Map\n",
    "# ---------------------------------\n",
    "# We'll plot the x and y positions of the gas in the galaxy.\n",
    "\n",
    "x = gas_data['x']\n",
    "y = gas_data['y']\n",
    "\n",
    "plt.figure(figsize=(8, 8))\n",
    "plt.scatter(x, y, s=0.01, color='black')\n",
    "plt.title(\"Simulated Galaxy\")\n",
    "plt.xlabel(\"X (kpc)\")\n",
    "plt.ylabel(\"Y (kpc)\")\n",
    "#plt.xlim(130, 170) # Uncomment to zoom in\n",
    "#plt.ylim(130, 170) # Uncomment to zoom in\n",
    "plt.show()"
   ]
  },
  {
   "cell_type": "markdown",
   "id": "1930496f",
   "metadata": {},
   "source": [
    " Let's view the galaxy again with a different zoom level to see more detail. "
   ]
  },
  {
   "cell_type": "code",
   "execution_count": null,
   "id": "94122a03",
   "metadata": {},
   "outputs": [],
   "source": [
    "plt.figure(figsize=(8, 8))\n",
    "plt.scatter(x, y, s=0.01, color='black')\n",
    "plt.title(\"Simulated Galaxy\")\n",
    "plt.xlabel(\"X (kpc)\")\n",
    "plt.ylabel(\"Y (kpc)\")\n",
    "plt.xlim(145, 157) # Uncomment to zoom in\n",
    "plt.ylim(145, 157) # Uncomment to zoom in\n",
    "plt.show()"
   ]
  },
  {
   "cell_type": "markdown",
   "id": "ec121891",
   "metadata": {},
   "source": [
    "# Section 7: Let's Add the Stars to the Galaxy Map ✨  \n",
    "So far, we’ve been looking at the gas in the galaxy, but galaxies are famously full of **stars**!\n",
    "\n",
    "In this section, we’ll load data for the stars and add them to our galaxy map.  \n",
    "Stars are what we can observe with the naked eye and we will colour them a bright **gold** to stand out.\n",
    "\n",
    "By combining gas and stars on the same plot, we get a richer picture of what a galaxy really looks like. Let’s explore! 🌟\n"
   ]
  },
  {
   "cell_type": "code",
   "execution_count": null,
   "id": "fcc3eae1",
   "metadata": {},
   "outputs": [],
   "source": [
    "# Section 7: Let's add the stars to the galaxy map\n",
    "# ---------------------------------\n",
    "# \n",
    "\n",
    "star_data = pd.read_csv('./data/galaxies/stars.csv')  # This file should contain x,y,z positions\n",
    "\n",
    "x = gas_data['x']\n",
    "y = gas_data['y']\n",
    "\n",
    "plt.figure(figsize=(8, 8))\n",
    "plt.scatter(x, y, s=0.01, color='black')\n",
    "\n",
    "x_stars = star_data['x']\n",
    "y_stars = star_data['y']\n",
    "plt.scatter(x_stars, y_stars, s=0.001, color=\"gold\")\n",
    "\n",
    "plt.title(\"Simulated Galaxy\")\n",
    "plt.xlabel(\"X (kpc)\")\n",
    "plt.ylabel(\"Y (kpc)\")\n",
    "plt.xlim(145, 157) \n",
    "plt.ylim(145, 157)\n",
    "plt.show()"
   ]
  },
  {
   "cell_type": "markdown",
   "id": "fe5b52d2",
   "metadata": {},
   "source": [
    "# Section 8: Turning Gas into a Galaxy Image 🌠  \n",
    "We’ve seen the galaxy as a scatter plot — each point representing gas in space. But what if we want to **see** how much gas is in different parts of the galaxy, like a heatmap?\n",
    "\n",
    "In this section, we’ll create an **image** where the brightness of each pixel shows the **total gas mass** in that area.  \n",
    "This is similar to how real telescopes build up images of galaxies!\n",
    "\n",
    "We'll do this by:\n",
    "1. Dividing space into a grid (like pixels),\n",
    "2. Counting how much gas is in each pixel using its `mass`,\n",
    "3. Displaying it with `imshow()`.\n",
    "\n",
    "Let's try it:\n"
   ]
  },
  {
   "cell_type": "code",
   "execution_count": null,
   "id": "42506e9d",
   "metadata": {},
   "outputs": [],
   "source": [
    "from matplotlib.colors import LogNorm\n",
    "\n",
    "# Load the mass data\n",
    "x = gas_data['x']\n",
    "y = gas_data['y']\n",
    "mass = gas_data['mass']\n",
    "\n",
    "# Set up the grid (e.g. 300x300 pixels)\n",
    "nbins = 300\n",
    "x_edges = np.linspace(140, 160, nbins+1)\n",
    "y_edges = np.linspace(140, 160, nbins+1)\n",
    "\n",
    "# Sum the mass in each pixel using histogram2d\n",
    "image, _, _ = np.histogram2d(x, y, bins=[x_edges, y_edges], weights=mass)\n",
    "\n",
    "# Replace zero (or very small) values with a small positive number\n",
    "image[image <= 0] = 100  # Adjust this floor if needed\n",
    "\n",
    "# Display the image\n",
    "plt.figure(figsize=(8, 8))\n",
    "plt.imshow(image.T, origin='lower', extent=[140, 160, 140, 160], cmap='inferno', norm=LogNorm())\n",
    "plt.title(\"Gas Density Map of the Galaxy\")\n",
    "plt.xlabel(\"X (kpc)\")\n",
    "plt.ylabel(\"Y (kpc)\")\n",
    "plt.colorbar(label=\"Gas Mass (Solar Masses)\")\n",
    "plt.show()\n"
   ]
  },
  {
   "cell_type": "markdown",
   "id": "6ef69999",
   "metadata": {},
   "source": [
    "🔥 Now you’ve created a **density map** — where bright areas show lots of gas, and dark areas show less!\n",
    "\n",
    "🧠 **Can you try this?**  \n",
    "- Change the number of bins to zoom in or out (`nbins = ...`)  \n",
    "- Try different colour maps like `\"plasma\"`, `\"viridis\"`, or `\"gray\"` by changing `cmap`  \n",
    "\n",
    "You’re now visualising data like an \n",
    "astrophysicist! 🛰️\n"
   ]
  },
  {
   "cell_type": "markdown",
   "id": "6d66e9fc",
   "metadata": {},
   "source": [
    "# Section 9: Viewing the Galaxy Edge-On 🌌  \n",
    "So far, we’ve been looking at the galaxy **face-on**, like looking down on a spinning disk (using the `x` and `y` coordinates).\n",
    "\n",
    "But galaxies are 3D! Now we’ll turn our view **sideways**, and look at the galaxy **edge-on**, using `x` and `z` (or `y` and `z`) instead.\n",
    "\n",
    "This lets us explore vertical features like **gas outflows** — powerful winds driven by stars and black holes that can blow gas out of the galaxy.\n",
    "\n",
    "Let’s see what this looks like!\n"
   ]
  },
  {
   "cell_type": "code",
   "execution_count": null,
   "id": "55e22315",
   "metadata": {},
   "outputs": [],
   "source": [
    "from matplotlib.colors import LogNorm\n",
    "\n",
    "# Choose x and z positions\n",
    "x = gas_data['x']\n",
    "z = gas_data['z']\n",
    "mass = gas_data['mass']\n",
    "\n",
    "# Grid setup\n",
    "nbins = 300\n",
    "x_edges = np.linspace(140, 160, nbins+1)\n",
    "z_edges = np.linspace(140, 160, nbins+1)\n",
    "\n",
    "# Histogram with mass weights\n",
    "image_xz, _, _ = np.histogram2d(x, z, bins=[x_edges, z_edges], weights=mass)\n",
    "\n",
    "# Avoid log(0) by replacing zeros\n",
    "image_xz[image_xz <= 0] = 100\n",
    "\n",
    "# Plot the edge-on view\n",
    "plt.figure(figsize=(10, 8))\n",
    "plt.imshow(image_xz.T, origin='lower', extent=[140, 160, 130, 170],\n",
    "           cmap='inferno', norm=LogNorm())\n",
    "plt.title(\"Edge-On View of the Galaxy (X vs Z)\")\n",
    "plt.xlabel(\"X (kpc)\")\n",
    "plt.ylabel(\"Z (kpc)\")\n",
    "plt.colorbar(label=\"Gas Mass (log scale)\")\n",
    "plt.show()\n"
   ]
  },
  {
   "cell_type": "markdown",
   "id": "0cd0a383",
   "metadata": {},
   "source": [
    "🔭 What do you notice in this edge-on view?  \n",
    "- Is the galaxy thin or thick in the vertical direction?\n",
    "- Are there any signs of gas **above or below** the main disk?\n",
    "\n",
    "💡 Try this:\n",
    "- Change to `y` vs `z` if you want a different edge-on angle\n",
    "- Zoom in on just the central region using `plt.xlim()` and `plt.ylim()`\n"
   ]
  },
  {
   "cell_type": "markdown",
   "id": "802eabb6",
   "metadata": {},
   "source": [
    "# Section 10: Galaxy Rotation Animation 🌀  \n",
    "Let’s bring our galaxy to life!\n",
    "\n",
    "In this section, we’ll animate the galaxy rotating from a **face-on** view to an **edge-on** view. This helps us see how the 3D shape changes — just like turning a real object in space.\n",
    "\n",
    "We’ll rotate the gas particle positions in 3D and project them onto a 2D screen using sine and cosine functions to represent rotation instructions (a rotation matrix).\n"
   ]
  },
  {
   "cell_type": "code",
   "execution_count": null,
   "id": "2352ad14",
   "metadata": {},
   "outputs": [],
   "source": [
    "import matplotlib.pyplot as plt\n",
    "import matplotlib.animation as animation\n",
    "plt.rcParams['animation.embed_limit'] = 50\n",
    "import numpy as np\n",
    "from IPython.display import HTML\n",
    "\n",
    "ani = None\n",
    "\n",
    "# Load the data\n",
    "gas_data = pd.read_csv('./data/galaxies/gas.csv') \n",
    "\n",
    "# Center coordinates around the galaxy center\n",
    "centre = 151.0\n",
    "x = gas_data['x']\n",
    "y = gas_data['y']\n",
    "z = gas_data['z']\n",
    "\n",
    "x_c = x - centre\n",
    "y_c = y - centre\n",
    "z_c = z - centre\n",
    "\n",
    "fig, ax = plt.subplots(figsize=(8, 8))\n",
    "scat = ax.scatter(x_c, y_c, s=0.01, color='black')\n",
    "ax.set_xlim(-10, 10)\n",
    "ax.set_ylim(-10, 10)\n",
    "ax.set_title(\"Rotating Galaxy\")\n",
    "ax.set_xlabel(\"X (kpc)\")\n",
    "ax.set_ylabel(\"Y / Z (rotating)\")\n",
    "\n",
    "def update(frame):\n",
    "    angle = np.radians(frame)\n",
    "    cos_a = np.cos(angle)\n",
    "    sin_a = np.sin(angle)\n",
    "\n",
    "    # Rotate Y and Z\n",
    "    x_rot = x_c\n",
    "    y_rot = y_c * cos_a - z_c * sin_a\n",
    "    z_rot = y_c * sin_a + z_c * cos_a\n",
    "\n",
    "    scat.set_offsets(np.c_[x_rot, y_rot])\n",
    "    ax.set_ylabel(f\"View Angle: {frame}°\")\n",
    "    return scat,\n",
    "\n",
    "ani = animation.FuncAnimation(fig, update, frames=np.arange(0, 180, 2), interval=100,blit=False)\n",
    "\n",
    "\n",
    "plt.close(fig)\n",
    "HTML(ani.to_jshtml())"
   ]
  },
  {
   "cell_type": "markdown",
   "id": "a5cfe7c9",
   "metadata": {},
   "source": [
    "# Section 11: Your Turn! Visualising Black Hole Binaries 💥🌀\n",
    "\n",
    "You've now learned how to:\n",
    "\n",
    "- Make scatter plots and line plots using `matplotlib`,\n",
    "- Plot galaxy data with stars and gas,\n",
    "- Zoom in and out, change styles, and add color,\n",
    "- Use `imshow()` to map mass like a telescope image,\n",
    "- Animate a galaxy to view it in 3D.\n",
    "\n",
    "Now it's time to put those skills to the test!\n",
    "\n",
    "## 🌌 The Challenge\n",
    "\n",
    "Astronomers study **supermassive black hole binaries** — two gigantic black holes orbiting each other, surrounded by swirling gas discs. You’ve been given data from a simulation of one of these systems.\n",
    "\n",
    "We’ve already loaded the data for you below — now **you choose** how to visualise it!"
   ]
  },
  {
   "cell_type": "code",
   "execution_count": null,
   "id": "4b94871f",
   "metadata": {},
   "outputs": [],
   "source": [
    "import pandas as pd\n",
    "\n",
    "# Load binary black hole and gas data\n",
    "smbh_data = pd.read_csv('./data/smbhs/smbhs.csv')  # Should contain x, y, z, mass\n",
    "gas_disc_data = pd.read_csv('./data/smbhs/gas.csv')    # Should contain x, y, z, mass"
   ]
  },
  {
   "cell_type": "code",
   "execution_count": null,
   "id": "0e37a0fb",
   "metadata": {},
   "outputs": [],
   "source": [
    "x_gas = gas_disc_data['x']\n",
    "y_gas = gas_disc_data['y']\n",
    "\n",
    "x_bh = smbh_data['x']\n",
    "y_bh = smbh_data['y']\n",
    "\n",
    "plt.figure(figsize=(8, 8))\n",
    "plt.scatter(x_gas, y_gas, s=0.0005, color='darkorange')\n",
    "plt.scatter(x_bh, y_bh, s=25, color='black')\n",
    "plt.title(\"Supermassive black hole binary\")\n",
    "plt.xlabel(\"X (kpc)\")\n",
    "plt.ylabel(\"Y (kpc)\")\n",
    "#plt.xlim(34, 64) # Uncomment to zoom in\n",
    "#plt.ylim(34, 64) # Uncomment to zoom in\n",
    "plt.show()"
   ]
  },
  {
   "cell_type": "markdown",
   "id": "6ac502d4",
   "metadata": {},
   "source": [
    "**Author: Dr Sophie Koudmani**\n",
    "\n",
    "**Copyright Statement and Licensing:**\n",
    "\n",
    "These Jupyter Notebooks are licensed under the GNU General Public License version 3.0 (GPLv3). Collaboration is encouraged.\n",
    "\n",
    "**Acknowledgements:**\n",
    "\n",
    "These notebooks were generated with the assistance of large language models, specifically **ChatGPT** and **Gemini**.\n",
    "\n",
    "The core workshop ideas and educational concepts presented within these notebooks are the original work of the author."
   ]
  }
 ],
 "metadata": {
  "kernelspec": {
   "display_name": "Python 3",
   "language": "python",
   "name": "python3"
  },
  "language_info": {
   "codemirror_mode": {
    "name": "ipython",
    "version": 3
   },
   "file_extension": ".py",
   "mimetype": "text/x-python",
   "name": "python",
   "nbconvert_exporter": "python",
   "pygments_lexer": "ipython3",
   "version": "3.11.11"
  }
 },
 "nbformat": 4,
 "nbformat_minor": 5
}
